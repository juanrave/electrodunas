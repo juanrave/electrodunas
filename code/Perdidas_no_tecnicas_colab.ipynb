{
  "nbformat": 4,
  "nbformat_minor": 0,
  "metadata": {
    "colab": {
      "provenance": []
    },
    "kernelspec": {
      "name": "python3",
      "display_name": "Python 3"
    },
    "language_info": {
      "name": "python"
    }
  },
  "cells": [
    {
      "cell_type": "code",
      "execution_count": null,
      "metadata": {
        "id": "TcgBGOt7GRig"
      },
      "outputs": [],
      "source": [
        "!pip install pyod\n",
        "\n",
        "from pyod.models.knn import KNN\n",
        "from sklearn.preprocessing import MinMaxScaler\n",
        "import pandas as pd\n",
        "import numpy as np\n",
        "import glob\n",
        "import os\n",
        "from scipy import stats\n",
        "\n",
        "all_files = glob.glob(os.path.join(\".\", \"*.csv\"))\n",
        "\n",
        "df_from_each_file = (pd.read_csv(f, sep=\",\") for f in all_files)\n",
        "df_elec = pd.concat(df_from_each_file, axis=0, ignore_index=True)"
      ]
    },
    {
      "cell_type": "code",
      "source": [
        "df_elec['Month'] = df_elec['Fecha'].str.slice(5, 7).str.replace(\"-\", \"\").astype(int)\n",
        "X = df_elec[['Month', 'Active_energy']]\n",
        "\n",
        "scaler = MinMaxScaler()\n",
        "X['Active_energy'] = scaler.fit_transform(X[['Active_energy']])"
      ],
      "metadata": {
        "id": "umVje481Hgbz"
      },
      "execution_count": null,
      "outputs": []
    },
    {
      "cell_type": "code",
      "source": [
        "outliers_fraction = 0.02\n",
        "\n",
        "# Cree el modelo con los parámetros definidos y entrénelo\n",
        "model = KNN(method='mean', contamination=outliers_fraction)\n",
        "model.fit(X)\n",
        "\n",
        "scores_pred = model.decision_function(X)\n",
        "y_pred = model.predict(X)\n",
        "n_inliers = len(y_pred) - np.count_nonzero(y_pred)\n",
        "n_outliers = np.count_nonzero(y_pred == 1)"
      ],
      "metadata": {
        "id": "LxvMazkzG0Qx"
      },
      "execution_count": 18,
      "outputs": []
    },
    {
      "cell_type": "code",
      "source": [
        "def predict_perdida_no_tecnica(config, scaler, model):\n",
        "    if type(config) == dict:\n",
        "        df = pd.DataFrame(config)\n",
        "    else:\n",
        "        df = config\n",
        "\n",
        "    df['Active_energy'] = scaler.transform(df[['Active_energy']])\n",
        "\n",
        "    print(df)\n",
        "    y_pred = model.predict(df)\n",
        "\n",
        "    if y_pred == 0:\n",
        "        return 'Comportamiento normal'\n",
        "    elif y_pred == 1:\n",
        "        return 'Posible perdida no tecnica'"
      ],
      "metadata": {
        "id": "MUwgnVYrJjZ1"
      },
      "execution_count": 19,
      "outputs": []
    },
    {
      "cell_type": "code",
      "source": [
        "config = {\n",
        "    'Month': [12], # 1- January, 2- February\n",
        "    'Active_energy':  [7]\n",
        "}\n",
        "predict_perdida_no_tecnica(config, scaler, model)"
      ],
      "metadata": {
        "colab": {
          "base_uri": "https://localhost:8080/",
          "height": 73
        },
        "id": "vTuJ_QI9Jk-Y",
        "outputId": "9c41f91d-b99a-4951-cdf3-dd65b5e3fedf"
      },
      "execution_count": 24,
      "outputs": [
        {
          "output_type": "stream",
          "name": "stdout",
          "text": [
            "   Month  Active_energy\n",
            "0     12       0.478709\n"
          ]
        },
        {
          "output_type": "execute_result",
          "data": {
            "text/plain": [
              "'Comportamiento normal'"
            ],
            "application/vnd.google.colaboratory.intrinsic+json": {
              "type": "string"
            }
          },
          "metadata": {},
          "execution_count": 24
        }
      ]
    },
    {
      "cell_type": "code",
      "source": [
        "import pickle\n",
        "\n",
        "# Save to file in the current working directory\n",
        "pkl_filename = \"pnt.pkl\"\n",
        "with open(pkl_filename, 'wb') as file:\n",
        "    pickle.dump(model, file)\n",
        "\n",
        "# Load from file\n",
        "with open(pkl_filename, 'rb') as file:\n",
        "    pickle_model = pickle.load(file)\n",
        "\n",
        "# Calculate the accuracy score and predict target values\n",
        "Ypredict = pickle_model.predict(X)"
      ],
      "metadata": {
        "id": "vYKc9i16SquF"
      },
      "execution_count": 25,
      "outputs": []
    },
    {
      "cell_type": "code",
      "source": [
        "##loading the model from the saved file\n",
        "pkl_filename = \"pnt.pkl\"\n",
        "with open(pkl_filename, 'rb') as f_in:\n",
        "    model = pickle.load(f_in)\n",
        "\n",
        "predictValue = predict_perdida_no_tecnica(config, scaler, model)\n",
        "predictValue"
      ],
      "metadata": {
        "colab": {
          "base_uri": "https://localhost:8080/",
          "height": 73
        },
        "id": "YrUYmHx9TznR",
        "outputId": "e2ff618a-f7a4-466c-dea1-812ec7056ba6"
      },
      "execution_count": 27,
      "outputs": [
        {
          "output_type": "stream",
          "name": "stdout",
          "text": [
            "   Month  Active_energy\n",
            "0     12       0.478709\n"
          ]
        },
        {
          "output_type": "execute_result",
          "data": {
            "text/plain": [
              "'Comportamiento normal'"
            ],
            "application/vnd.google.colaboratory.intrinsic+json": {
              "type": "string"
            }
          },
          "metadata": {},
          "execution_count": 27
        }
      ]
    }
  ]
}