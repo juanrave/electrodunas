{
  "nbformat": 4,
  "nbformat_minor": 0,
  "metadata": {
    "colab": {
      "provenance": []
    },
    "kernelspec": {
      "name": "python3",
      "display_name": "Python 3"
    },
    "language_info": {
      "name": "python"
    }
  },
  "cells": [
    {
      "cell_type": "code",
      "execution_count": 40,
      "metadata": {
        "id": "TcgBGOt7GRig"
      },
      "outputs": [],
      "source": [
        "from pyod.models.knn import KNN\n",
        "from sklearn.preprocessing import MinMaxScaler\n",
        "import pandas as pd\n",
        "import numpy as np\n",
        "import glob\n",
        "import os\n",
        "from scipy import stats\n",
        "\n",
        "all_files = glob.glob(os.path.join(\".\", \"*.csv\"))\n",
        "\n",
        "df_from_each_file = (pd.read_csv(f, sep=\",\") for f in all_files)\n",
        "df_elec = pd.concat(df_from_each_file, axis=0, ignore_index=True)"
      ]
    },
    {
      "cell_type": "code",
      "source": [
        "df_elec['Month'] = df_elec['Fecha'].str.slice(5, 7).str.replace(\"-\", \"\").astype(int)\n",
        "X = df_elec[['Month', 'Active_energy']]\n",
        "\n",
        "scaler = MinMaxScaler()\n",
        "X['Active_energy'] = scaler.fit_transform(X[['Active_energy']])"
      ],
      "metadata": {
        "colab": {
          "base_uri": "https://localhost:8080/"
        },
        "id": "umVje481Hgbz",
        "outputId": "c7aececf-7d87-427c-9d73-4e441e71a698"
      },
      "execution_count": 103,
      "outputs": [
        {
          "output_type": "stream",
          "name": "stderr",
          "text": [
            "<ipython-input-103-45b3cd0764dc>:5: SettingWithCopyWarning: \n",
            "A value is trying to be set on a copy of a slice from a DataFrame.\n",
            "Try using .loc[row_indexer,col_indexer] = value instead\n",
            "\n",
            "See the caveats in the documentation: https://pandas.pydata.org/pandas-docs/stable/user_guide/indexing.html#returning-a-view-versus-a-copy\n",
            "  X['Active_energy'] = scaler.fit_transform(X[['Active_energy']])\n"
          ]
        }
      ]
    },
    {
      "cell_type": "code",
      "source": [
        "outliers_fraction = 0.02\n",
        "\n",
        "# Cree el modelo con los parámetros definidos y entrénelo\n",
        "model = KNN(method='mean', contamination=outliers_fraction)\n",
        "model.fit(X)\n",
        "\n",
        "scores_pred = model.decision_function(X)\n",
        "y_pred = model.predict(X)\n",
        "n_inliers = len(y_pred) - np.count_nonzero(y_pred)\n",
        "n_outliers = np.count_nonzero(y_pred == 1)"
      ],
      "metadata": {
        "id": "LxvMazkzG0Qx"
      },
      "execution_count": 57,
      "outputs": []
    },
    {
      "cell_type": "code",
      "source": [
        "def predict_perdida_no_tecnica(config, scaler, model):\n",
        "    if type(config) == dict:\n",
        "        df = pd.DataFrame(config)\n",
        "    else:\n",
        "        df = config\n",
        "\n",
        "    df['Active_energy'] = scaler.transform(df[['Active_energy']])\n",
        "\n",
        "    print(df)\n",
        "\n",
        "    y_pred = model.predict(df)\n",
        "\n",
        "    if y_pred == 0:\n",
        "        return 'Comportamiento normal'\n",
        "    elif y_pred == 1:\n",
        "        return 'Posible perdida no tecnica'"
      ],
      "metadata": {
        "id": "MUwgnVYrJjZ1"
      },
      "execution_count": 104,
      "outputs": []
    },
    {
      "cell_type": "code",
      "source": [
        "config = {\n",
        "    'Month': [12], # 1- January, 2- February\n",
        "    'Active_energy':  [8]\n",
        "}\n",
        "predict_perdida_no_tecnica(config, scaler, model)"
      ],
      "metadata": {
        "colab": {
          "base_uri": "https://localhost:8080/",
          "height": 73
        },
        "id": "vTuJ_QI9Jk-Y",
        "outputId": "58f8c00b-c36d-4a84-9786-13ec2c749439"
      },
      "execution_count": 108,
      "outputs": [
        {
          "output_type": "stream",
          "name": "stdout",
          "text": [
            "   Month  Active_energy\n",
            "0     12       0.547096\n"
          ]
        },
        {
          "output_type": "execute_result",
          "data": {
            "text/plain": [
              "'Comportamiento normal'"
            ],
            "application/vnd.google.colaboratory.intrinsic+json": {
              "type": "string"
            }
          },
          "metadata": {},
          "execution_count": 108
        }
      ]
    },
    {
      "cell_type": "code",
      "source": [
        "import pickle\n",
        "\n",
        "# Save to file in the current working directory\n",
        "pkl_filename = \"pnt.pkl\"\n",
        "with open(pkl_filename, 'wb') as file:\n",
        "    pickle.dump(model, file)\n",
        "\n",
        "# Load from file\n",
        "with open(pkl_filename, 'rb') as file:\n",
        "    pickle_model = pickle.load(file)\n",
        "\n",
        "# Calculate the accuracy score and predict target values\n",
        "Ypredict = pickle_model.predict(X)"
      ],
      "metadata": {
        "id": "vYKc9i16SquF"
      },
      "execution_count": 109,
      "outputs": []
    },
    {
      "cell_type": "code",
      "source": [
        "##loading the model from the saved file\n",
        "pkl_filename = \"pnt.pkl\"\n",
        "with open(pkl_filename, 'rb') as f_in:\n",
        "    model = pickle.load(f_in)\n",
        "\n",
        "predictValue = predict_perdida_no_tecnica(config, scaler, model)\n",
        "predictValue"
      ],
      "metadata": {
        "colab": {
          "base_uri": "https://localhost:8080/",
          "height": 73
        },
        "id": "YrUYmHx9TznR",
        "outputId": "34b4e9f6-7e95-42a9-d362-9f489552f9bd"
      },
      "execution_count": 110,
      "outputs": [
        {
          "output_type": "stream",
          "name": "stdout",
          "text": [
            "   Month  Active_energy\n",
            "0     12       0.547096\n"
          ]
        },
        {
          "output_type": "execute_result",
          "data": {
            "text/plain": [
              "'Comportamiento normal'"
            ],
            "application/vnd.google.colaboratory.intrinsic+json": {
              "type": "string"
            }
          },
          "metadata": {},
          "execution_count": 110
        }
      ]
    }
  ]
}