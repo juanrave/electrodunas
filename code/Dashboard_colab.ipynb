{
  "nbformat": 4,
  "nbformat_minor": 0,
  "metadata": {
    "colab": {
      "provenance": []
    },
    "kernelspec": {
      "name": "python3",
      "display_name": "Python 3"
    },
    "language_info": {
      "name": "python"
    }
  },
  "cells": [
    {
      "cell_type": "code",
      "execution_count": 1,
      "metadata": {
        "id": "0WSozgKo5Lb4",
        "colab": {
          "base_uri": "https://localhost:8080/"
        },
        "outputId": "05a6dac0-4807-4fe4-f61f-7f462ba8093d"
      },
      "outputs": [
        {
          "output_type": "stream",
          "name": "stdout",
          "text": [
            "Collecting loguru\n",
            "  Downloading loguru-0.7.2-py3-none-any.whl (62 kB)\n",
            "\u001b[?25l     \u001b[90m━━━━━━━━━━━━━━━━━━━━━━━━━━━━━━━━━━━━━━━━\u001b[0m \u001b[32m0.0/62.5 kB\u001b[0m \u001b[31m?\u001b[0m eta \u001b[36m-:--:--\u001b[0m\r\u001b[2K     \u001b[91m━━━━━━━━━━━━━━━━━━━━━━━━━━\u001b[0m\u001b[90m╺\u001b[0m\u001b[90m━━━━━━━━━━━━━\u001b[0m \u001b[32m41.0/62.5 kB\u001b[0m \u001b[31m1.0 MB/s\u001b[0m eta \u001b[36m0:00:01\u001b[0m\r\u001b[2K     \u001b[90m━━━━━━━━━━━━━━━━━━━━━━━━━━━━━━━━━━━━━━━━\u001b[0m \u001b[32m62.5/62.5 kB\u001b[0m \u001b[31m1.2 MB/s\u001b[0m eta \u001b[36m0:00:00\u001b[0m\n",
            "\u001b[?25hInstalling collected packages: loguru\n",
            "Successfully installed loguru-0.7.2\n"
          ]
        }
      ],
      "source": [
        "!pip install dash\n",
        "!pip install dash_bootstrap_components\n",
        "!pip install loguru"
      ]
    },
    {
      "cell_type": "code",
      "source": [
        "from dash import Dash, html, dash_table, dcc, callback, Output, Input\n",
        "import pandas as pd\n",
        "import plotly.express as px\n",
        "import dash_bootstrap_components as dbc\n",
        "import requests\n",
        "import json\n",
        "from loguru import logger\n",
        "import os\n",
        "\n",
        "# Initialize the app - incorporate a Dash Bootstrap theme\n",
        "external_stylesheets = [dbc.themes.CERULEAN]\n",
        "\n",
        "# app server\n",
        "app = Dash(__name__, external_stylesheets=external_stylesheets)\n",
        "server = app.server\n",
        "\n",
        "# PREDICTION API URL\n",
        "api_url = os.getenv('API_URL')\n",
        "api_url = \"http://{}:8001/api/v1/predict\".format(api_url)\n",
        "\n",
        "\n",
        "# App layout\n",
        "app.layout = dbc.Container([\n",
        "    dbc.Row([\n",
        "      html.Div(children=\"ELECTRO DUNAS\", className=\"d-block p-2 bg-primary text-white fs-1\")\n",
        "    ]),\n",
        "    dbc.Row([\n",
        "      html.Div(children=\"Consumo de electricidad segmento industrial\", className=\"d-block p-2 bg-dark text-white fs-3\")\n",
        "    ]),\n",
        "        dbc.Row([\n",
        "      html.Div(children=\"Detección de perdidas no técnicas\", className=\"d-block p-2 bg-dark text-white fs-5\")\n",
        "    ]),\n",
        "    dbc.Row([\n",
        "        dbc.Col([\n",
        "          dbc.Label(\"Cliente:\", className=\"fw-normal\"),\n",
        "          dcc.Dropdown(id='cliente-dropdown', options=['CLIENTE1', 'CLIENTE2', 'CLIENTE3', 'CLIENTE4', 'CLIENTE5', 'CLIENTE6', 'CLIENTE7', 'CLIENTE8', 'CLIENTE9', 'CLIENTE10'], value='CLIENTE1')\n",
        "        ], width=2),\n",
        "        dbc.Col([\n",
        "          dbc.Label(\"Acumular por período:\", className=\"fw-normal\"),\n",
        "          dcc.Dropdown(id='medida-dropdown', options=['Mínimo', 'Máximo', 'Media', 'No acumular'], value='Media')\n",
        "        ], width=2),\n",
        "        dbc.Col([\n",
        "          dbc.Label(\"Período:\", className=\"fw-normal\"),\n",
        "          dcc.Dropdown(\n",
        "              id=\"periodo-input\",\n",
        "              options=['1', '2', '3', '4', '5', '6', '7', '8', '9', '10', '11', '12'], value='1')\n",
        "        ], width=1),\n",
        "        dbc.Col([\n",
        "          dbc.Label(\"Energia activa:\", className=\"fw-normal\"),\n",
        "          dcc.Input(\n",
        "              id=\"energia-input\",\n",
        "              placeholder=\"Ingrese la energía activa\",\n",
        "              max=0,\n",
        "              min=100,\n",
        "              step=0.01\n",
        "          )\n",
        "        ], width=2),\n",
        "        dbc.Col([\n",
        "            html.Div(id=\"resultado-output\", className=\"fs-5 fw-bold\")\n",
        "        ], width=2)\n",
        "    ]),\n",
        "    dbc.Row([\n",
        "        dbc.Col([\n",
        "            html.Div(id=\"consumo-table\")\n",
        "        ], width=4),\n",
        "        dbc.Col([\n",
        "            dcc.Graph(figure={}, id='consumo-graph')\n",
        "        ], width=6),\n",
        "    ]),\n",
        "  ], fluid=True)\n",
        "\n",
        "@app.callback(\n",
        "    [Output(\"consumo-table\", \"children\"),\n",
        "    Output(component_id='consumo-graph', component_property='figure')],\n",
        "    [Input(\"cliente-dropdown\", \"value\"),\n",
        "     Input(\"medida-dropdown\", \"value\")]\n",
        ")\n",
        "def update_output(cliente, medida):\n",
        "    url = f'https://raw.githubusercontent.com/juanrave/electrodunas/main/datos/DATOS{cliente}.csv'\n",
        "    df = pd.read_csv(url, sep=',')\n",
        "\n",
        "    df['Periodo'] = df['Fecha'].str.slice(0, 7).str.replace(\"-\", \"\")\n",
        "\n",
        "    match medida:\n",
        "      case 'Mínimo':\n",
        "        data = df.groupby(['Periodo'])['Active_energy'].min()\n",
        "        data = data.to_frame()\n",
        "        data = data.reset_index()\n",
        "        data.columns = ['Periodo', 'Active_energy']\n",
        "      case 'Máximo':\n",
        "        data = df.groupby(['Periodo'])['Active_energy'].max()\n",
        "        data = data.to_frame()\n",
        "        data = data.reset_index()\n",
        "        data.columns = ['Periodo', 'Active_energy']\n",
        "      case \"Media\":\n",
        "        data = df.groupby(['Periodo'])['Active_energy'].mean()\n",
        "        data = data.to_frame()\n",
        "        data = data.reset_index()\n",
        "        data.columns = ['Periodo', 'Active_energy']\n",
        "      case _:\n",
        "        data = df[['Periodo', 'Active_energy']]\n",
        "\n",
        "    fig = px.line(data, x='Periodo', y='Active_energy')\n",
        "\n",
        "    return html.Div(\n",
        "        [\n",
        "            dash_table.DataTable(\n",
        "                data=data.to_dict(\"records\"),\n",
        "                columns=[{\"id\": x, \"name\": x} for x in data.columns],\n",
        "                page_size= 10,\n",
        "            )\n",
        "        ]\n",
        "    ), fig\n",
        "\n",
        "# Method to update prediction\n",
        "@app.callback(\n",
        "    Output(\"resultado-output\", \"children\"),\n",
        "    [Input(\"energia-input\", \"value\"),Input(\"periodo-input\", \"value\")]\n",
        ")\n",
        "def update_output(energia, periodo):\n",
        "    api_url = 'http://3.88.33.0:8001/getPredictionOutput'\n",
        "    myreq = [\n",
        "              {\n",
        "                \"Month\": periodo,\n",
        "                \"Active_energy\": energia\n",
        "              }\n",
        "            ]\n",
        "    headers =  {\"Content-Type\":\"application/json\", \"accept\": \"application/json\"}\n",
        "\n",
        "    # POST call to the API\n",
        "    response = requests.post(api_url, data=json.dumps(myreq), headers=headers)\n",
        "    data = response.json()\n",
        "    logger.info(\"Response: {}\".format(data))\n",
        "\n",
        "    # Pick result to return from json format\n",
        "    result = data['predict']\n",
        "\n",
        "    return result\n",
        "\n",
        "if __name__ == \"__main__\":\n",
        "    logger.info(\"Running dash\")\n",
        "    app.run_server(debug=False)"
      ],
      "metadata": {
        "colab": {
          "base_uri": "https://localhost:8080/",
          "height": 691
        },
        "id": "HkCYkgx85QMg",
        "outputId": "1b7925ba-2313-44db-aebc-eef73bcfdcaf"
      },
      "execution_count": 7,
      "outputs": [
        {
          "output_type": "stream",
          "name": "stderr",
          "text": [
            "\u001b[32m2023-11-28 01:03:37.345\u001b[0m | \u001b[1mINFO    \u001b[0m | \u001b[36m__main__\u001b[0m:\u001b[36m<cell line: 140>\u001b[0m:\u001b[36m141\u001b[0m - \u001b[1mRunning dash\u001b[0m\n"
          ]
        },
        {
          "output_type": "display_data",
          "data": {
            "text/plain": [
              "<IPython.core.display.Javascript object>"
            ],
            "application/javascript": [
              "(async (port, path, width, height, cache, element) => {\n",
              "    if (!google.colab.kernel.accessAllowed && !cache) {\n",
              "      return;\n",
              "    }\n",
              "    element.appendChild(document.createTextNode(''));\n",
              "    const url = await google.colab.kernel.proxyPort(port, {cache});\n",
              "    const iframe = document.createElement('iframe');\n",
              "    iframe.src = new URL(path, url).toString();\n",
              "    iframe.height = height;\n",
              "    iframe.width = width;\n",
              "    iframe.style.border = 0;\n",
              "    iframe.allow = [\n",
              "        'accelerometer',\n",
              "        'autoplay',\n",
              "        'camera',\n",
              "        'clipboard-read',\n",
              "        'clipboard-write',\n",
              "        'gyroscope',\n",
              "        'magnetometer',\n",
              "        'microphone',\n",
              "        'serial',\n",
              "        'usb',\n",
              "        'xr-spatial-tracking',\n",
              "    ].join('; ');\n",
              "    element.appendChild(iframe);\n",
              "  })(8050, \"/\", \"100%\", 650, false, window.element)"
            ]
          },
          "metadata": {}
        }
      ]
    }
  ]
}